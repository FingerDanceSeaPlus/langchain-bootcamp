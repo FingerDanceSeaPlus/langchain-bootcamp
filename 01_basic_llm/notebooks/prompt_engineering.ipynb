{
 "cells": [
  {
   "cell_type": "markdown",
   "id": "b7ef402a",
   "metadata": {},
   "source": [
    "# Prompt 模板\n",
    "（摘自LangChain中文文档）\n",
    "\n",
    "提示模板有助于将用户输入和参数转换为语言模型的指令。这可以用于指导模型的响应，帮助其理解上下文并生成相关且连贯的基于语言的输出。\n",
    "\n",
    "提示模板接收字典作为输入，其中每个键代表提示模板中要填充的变量。\n",
    "\n",
    "提示模板输出一个 PromptValue。这个 PromptValue 可以传递给 LLM 或 ChatModel，也可以转换为字符串或消息列表。PromptValue 存在的原因是为了方便在字符串和消息之间切换。\n",
    "\n",
    "提示模板有几种不同类型\n",
    "\n",
    "## 字符串提示模板\n",
    "建和使用 PromptTemplate 的常见方法如下"
   ]
  },
  {
   "cell_type": "code",
   "execution_count": 5,
   "id": "2105407a",
   "metadata": {},
   "outputs": [
    {
     "name": "stdout",
     "output_type": "stream",
     "text": [
      "input_variables=['topic'] input_types={} partial_variables={} template='Tell me a joke about {topic}'\n"
     ]
    }
   ],
   "source": [
    "from langchain_core.prompts import PromptTemplate\n",
    "\n",
    "prompt_template = PromptTemplate.from_template(\"Tell me a joke about {topic}\")\n",
    "\n",
    "prompt_template.invoke({\"topic\": \"cats\"})#似乎还用到了异步的思想？\n",
    "\n",
    "print(prompt_template)"
   ]
  },
  {
   "cell_type": "markdown",
   "id": "d1beeac7",
   "metadata": {},
   "source": [
    "## 聊天提示模板\n",
    "这些提示模板用于格式化消息列表。这些“模板”本身由一个模板列表组成。例如，构建和使用 ChatPromptTemplate 的常见方法如下"
   ]
  },
  {
   "cell_type": "code",
   "execution_count": null,
   "id": "d7765615",
   "metadata": {},
   "outputs": [],
   "source": [
    "from langchain_core.prompts import ChatPromptTemplate\n",
    "\n",
    "prompt_template = ChatPromptTemplate([\n",
    "    (\"system\", \"You are a helpful assistant\"),\n",
    "    (\"user\", \"Tell me a joke about {topic}\")\n",
    "])\n",
    "\n",
    "prompt_template.invoke({\"topic\": \"cats\"})"
   ]
  },
  {
   "cell_type": "markdown",
   "id": "11210ce4",
   "metadata": {},
   "source": [
    "在上面的示例中，当调用此 ChatPromptTemplate 时，它将构建两条消息。第一条是系统消息，没有要格式化的变量。第二条是 HumanMessage，它将由用户传入的 topic 变量进行格式化。\n",
    "## 消息占位符\n",
    "希望用户传入一个消息列表，并将其放入指定的位置："
   ]
  },
  {
   "cell_type": "code",
   "execution_count": null,
   "id": "58c52be3",
   "metadata": {},
   "outputs": [],
   "source": [
    "from langchain_core.prompts import ChatPromptTemplate, MessagesPlaceholder\n",
    "from langchain_core.messages import HumanMessage\n",
    "\n",
    "prompt_template = ChatPromptTemplate([\n",
    "    (\"system\", \"You are a helpful assistant\"),\n",
    "    MessagesPlaceholder(\"msgs\")\n",
    "])\n",
    "\n",
    "prompt_template.invoke({\"msgs\": [HumanMessage(content=\"hi!\")]})"
   ]
  },
  {
   "cell_type": "markdown",
   "id": "606d108f",
   "metadata": {},
   "source": [
    "这将生成一个包含两条消息的列表，第一条是系统消息，第二条是我们传入的 HumanMessage。如果我们传入了 5 条消息，那么它总共会生成 6 条消息（系统消息加上传入的 5 条消息）。这对于将消息列表插入特定位置非常有用。\n",
    "\n",
    "实现相同目标的另一种方法，不显式使用 MessagesPlaceholder 类，如下所示\n",
    "\n"
   ]
  },
  {
   "cell_type": "code",
   "execution_count": null,
   "id": "b822f952",
   "metadata": {},
   "outputs": [],
   "source": [
    "prompt_template = ChatPromptTemplate([\n",
    "    (\"system\", \"You are a helpful assistant\"),\n",
    "    (\"placeholder\", \"{msgs}\") # <-- This is the changed part，相比于前一段代码修改的内容\n",
    "])"
   ]
  },
  {
   "cell_type": "markdown",
   "id": "207497cb",
   "metadata": {},
   "source": [
    "## 字符串提示词组合\n",
    "两种方法："
   ]
  },
  {
   "cell_type": "code",
   "execution_count": 4,
   "id": "a855a033",
   "metadata": {},
   "outputs": [
    {
     "name": "stdout",
     "output_type": "stream",
     "text": [
      "input_variables=['language', 'topic'] input_types={} partial_variables={} template='Tell me a joke about {topic}, make it funny\\n\\nand in {language}'\n"
     ]
    }
   ],
   "source": [
    "from langchain_core.prompts import PromptTemplate\n",
    "#法一\n",
    "prompt = (\n",
    "    PromptTemplate.from_template(\"Tell me a joke about {topic}\")\n",
    "    + \", make it funny\"\n",
    "    + \"\\n\\nand in {language}\"\n",
    ")\n",
    "#法二\n",
    "prompt=PromptTemplate(input_variables=['language', 'topic'], template='Tell me a joke about {topic}, make it funny\\n\\nand in {language}')\n",
    "\n",
    "prompt.format(topic=\"sports\", language=\"spanish\")\n",
    "\n",
    "print(prompt)"
   ]
  },
  {
   "cell_type": "markdown",
   "id": "e9c3dd9c",
   "metadata": {},
   "source": [
    "## 聊天提示词组合\n",
    "聊天提示词模板也可以连接，每个新元素都是最终提示词中的一条新消息。\n",
    "\n",
    "首先，让我们使用一个 ChatPromptTemplate 初始化一个 SystemMessage。"
   ]
  },
  {
   "cell_type": "code",
   "execution_count": null,
   "id": "9bc05116",
   "metadata": {},
   "outputs": [],
   "source": [
    "from langchain_core.messages import AIMessage, HumanMessage, SystemMessage\n",
    "\n",
    "prompt = SystemMessage(content=\"You are a nice pirate\")"
   ]
  },
  {
   "cell_type": "markdown",
   "id": "446e5daf",
   "metadata": {},
   "source": [
    "然后，可以创建一个管道，将其与其他消息或消息模板结合。当没有变量需要格式化时，使用 Message；当有变量需要格式化时，使用 MessageTemplate。您也可以只使用字符串（注意：这将被自动推断为 HumanMessagePromptTemplate）。"
   ]
  },
  {
   "cell_type": "code",
   "execution_count": null,
   "id": "46d1cd5f",
   "metadata": {},
   "outputs": [],
   "source": [
    "new_prompt = (\n",
    "    prompt + HumanMessage(content=\"hi\") + AIMessage(content=\"what?\") + \"{input}\"\n",
    ")"
   ]
  },
  {
   "cell_type": "markdown",
   "id": "a2b34f11",
   "metadata": {},
   "source": [
    "在底层，这会创建一个 ChatPromptTemplate 类的实例。"
   ]
  },
  {
   "cell_type": "code",
   "execution_count": null,
   "id": "f189eeb1",
   "metadata": {},
   "outputs": [],
   "source": [
    "new_prompt.format_messages(input=\"i said hi\")"
   ]
  },
  {
   "cell_type": "markdown",
   "id": "025edec9",
   "metadata": {},
   "source": [
    "[SystemMessage(content='You are a nice pirate'),\n",
    " HumanMessage(content='hi'),\n",
    " AIMessage(content='what?'),\n",
    " HumanMessage(content='i said hi')]"
   ]
  },
  {
   "cell_type": "markdown",
   "id": "25449288",
   "metadata": {},
   "source": [
    "## 如何部分格式化提示模板\n",
    "LangChain 以两种方式支持这一点\n",
    "\n",
    "使用字符串值进行部分格式化。\n",
    "使用返回字符串值的函数进行部分格式化。\n",
    "### 使用字符串值进行部分格式化"
   ]
  },
  {
   "cell_type": "code",
   "execution_count": 6,
   "id": "6b72dddf",
   "metadata": {},
   "outputs": [
    {
     "name": "stdout",
     "output_type": "stream",
     "text": [
      "foobaz\n"
     ]
    }
   ],
   "source": [
    "from langchain_core.prompts import PromptTemplate\n",
    "\n",
    "prompt = PromptTemplate.from_template(\"{foo}{bar}\")\n",
    "partial_prompt = prompt.partial(foo=\"foo\")\n",
    "print(partial_prompt.format(bar=\"baz\"))"
   ]
  },
  {
   "cell_type": "code",
   "execution_count": 7,
   "id": "8d01bf18",
   "metadata": {},
   "outputs": [
    {
     "name": "stdout",
     "output_type": "stream",
     "text": [
      "foobaz\n"
     ]
    }
   ],
   "source": [
    "prompt = PromptTemplate(\n",
    "    template=\"{foo}{bar}\", input_variables=[\"bar\"], partial_variables={\"foo\": \"foo\"}\n",
    ")\n",
    "print(prompt.format(bar=\"baz\"))#也可以直接用部分格式化够的变量初始化提示词"
   ]
  },
  {
   "cell_type": "markdown",
   "id": "999568aa",
   "metadata": {},
   "source": [
    "### 使用函数进行部分格式化\n",
    "这种用例适用于您知道总是希望以通用方式获取某个变量的情况。一个很好的例子是日期或时间。想象一下，您有一个提示词，并且总是希望它包含当前日期。您无法将其硬编码到提示词中，并且将其与其他输入变量一起传递也很不方便。在这种情况下，能够用一个总是返回当前日期的函数来部分格式化提示词会很方便。"
   ]
  },
  {
   "cell_type": "code",
   "execution_count": 8,
   "id": "562f5d39",
   "metadata": {},
   "outputs": [
    {
     "name": "stdout",
     "output_type": "stream",
     "text": [
      "Tell me a funny joke about the day 10/27/2025, 08:40:04\n"
     ]
    }
   ],
   "source": [
    "from datetime import datetime\n",
    "\n",
    "\n",
    "def _get_datetime():\n",
    "    now = datetime.now()\n",
    "    return now.strftime(\"%m/%d/%Y, %H:%M:%S\")\n",
    "\n",
    "\n",
    "prompt = PromptTemplate(\n",
    "    template=\"Tell me a {adjective} joke about the day {date}\",\n",
    "    input_variables=[\"adjective\", \"date\"],\n",
    ")\n",
    "partial_prompt = prompt.partial(date=_get_datetime)\n",
    "print(partial_prompt.format(adjective=\"funny\"))"
   ]
  },
  {
   "cell_type": "markdown",
   "id": "b0778398",
   "metadata": {},
   "source": [
    "也可以直接用部分格式化后的变量初始化提示词"
   ]
  },
  {
   "cell_type": "code",
   "execution_count": null,
   "id": "2d79e273",
   "metadata": {},
   "outputs": [],
   "source": [
    "prompt = PromptTemplate(\n",
    "    template=\"Tell me a {adjective} joke about the day {date}\",\n",
    "    input_variables=[\"adjective\"],\n",
    "    partial_variables={\"date\": _get_datetime},\n",
    ")\n",
    "print(prompt.format(adjective=\"funny\"))"
   ]
  }
 ],
 "metadata": {
  "kernelspec": {
   "display_name": "chapter-1",
   "language": "python",
   "name": "python3"
  },
  "language_info": {
   "codemirror_mode": {
    "name": "ipython",
    "version": 3
   },
   "file_extension": ".py",
   "mimetype": "text/x-python",
   "name": "python",
   "nbconvert_exporter": "python",
   "pygments_lexer": "ipython3",
   "version": "3.11.13"
  }
 },
 "nbformat": 4,
 "nbformat_minor": 5
}
